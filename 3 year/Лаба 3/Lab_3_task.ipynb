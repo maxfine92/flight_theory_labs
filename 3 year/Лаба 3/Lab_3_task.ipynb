{
 "cells": [
  {
   "cell_type": "code",
   "execution_count": 1,
   "metadata": {},
   "outputs": [],
   "source": [
    "import numpy as np\n",
    "import matplotlib.pyplot as plt"
   ]
  },
  {
   "cell_type": "code",
   "execution_count": 3,
   "metadata": {},
   "outputs": [
    {
     "data": {
      "image/png": "[encoded data removed]",
      "text/plain": [
       "<Figure size 576x576 with 1 Axes>"
      ]
     },
     "metadata": {
      "needs_background": "light"
     },
     "output_type": "display_data"
    }
   ],
   "source": [
    "day = 60*60*24\n",
    "# вписываем 2 константы: гравитационная постоянная (G) и астрономическая единица (au)\n",
    "G = \n",
    "au = \n",
    "\n",
    "class CelBody(object):\n",
    "    def __init__(self, id, name, x0, v0, mass, color, lw):\n",
    "        # Name of the body (string)\n",
    "        self.id = id\n",
    "        self.name = name\n",
    "        # Mass of the body (kg)\n",
    "        self.Mass = mass\n",
    "        # Initial position of the body (au)\n",
    "        self.x0 = np.asarray(x0, dtype=float)\n",
    "        # Position (au). Set to initial value.\n",
    "        self.x = self.x0.copy()\n",
    "        # Initial velocity of the body (au/s)\n",
    "        self.v0 = np.asarray(v0, dtype=float)\n",
    "        # Velocity (au/s). Set to initial value.\n",
    "        self.velocity = self.v0.copy()\n",
    "        self.acceleration = np.zeros([3], dtype=float)\n",
    "        self.color = color\n",
    "        self.lw = lw\n",
    "\n",
    "t = 0\n",
    "\n",
    "# выбираем период дискретизации\n",
    "dt = ??? * day\n",
    "\n",
    "# задаём 2 тела: первое тело - центральное, второе движется\n",
    "Bodies = [\n",
    "    CelBody(?, ?, [?, ?, ?], [?, ?, ?], ?, ?, ?),\n",
    "    CelBody(?, ?, [?, ?, ?], [?, ?, ?], ?, ?, ?),\n",
    "    ]\n",
    "\n",
    "paths = [ [ b.x[:2].copy() ] for b in Bodies]\n",
    "\n",
    "\n",
    "# выбираем продолжительность моделирования\n",
    "v = 0\n",
    "while t < ??? *365.242*day:\n",
    "    for body in Bodies:\n",
    "        body.acceleration *= 0\n",
    "        for other in Bodies:\n",
    "            # no force on itself\n",
    "            if (body == other): continue # jump to next loop\n",
    "            rx = body.x - other.x\n",
    "            r3 = sum(rx**2)**1.5\n",
    "            body.acceleration += -G*other.Mass*rx/r3\n",
    "\n",
    "    for n, planet in enumerate(Bodies):\n",
    "        planet.velocity += planet.acceleration*dt\n",
    "        planet.x += planet.velocity*dt\n",
    "        paths[n].append( planet.x[:2].copy() )\n",
    "        if t > v:\n",
    "            v += 30.5*day\n",
    "        t += dt\n",
    "\n",
    "plt.figure(figsize=(8,8))\n",
    "for n, planet in enumerate(Bodies): \n",
    "    px, py=np.array(paths[n]).T; \n",
    "    plt.plot(px, py, color=planet.color, lw=planet.lw)\n",
    "plt.show()"
   ]
  },
  {
   "cell_type": "code",
   "execution_count": null,
   "metadata": {},
   "outputs": [],
   "source": []
  },
  {
   "cell_type": "code",
   "execution_count": null,
   "metadata": {},
   "outputs": [],
   "source": []
  }
 ],
 "metadata": {
  "kernelspec": {
   "display_name": "Python 2",
   "language": "python",
   "name": "python2"
  },
  "language_info": {
   "codemirror_mode": {
    "name": "ipython",
    "version": 2
   },
   "file_extension": ".py",
   "mimetype": "text/x-python",
   "name": "python",
   "nbconvert_exporter": "python",
   "pygments_lexer": "ipython2",
   "version": "2.7.16"
  }
 },
 "nbformat": 4,
 "nbformat_minor": 2
}

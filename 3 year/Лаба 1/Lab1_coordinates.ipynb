{
 "cells": [
  {
   "cell_type": "code",
   "execution_count": 1,
   "metadata": {},
   "outputs": [],
   "source": [
    "import pandas as pd\n",
    "import numpy as np\n",
    "import math"
   ]
  },
  {
   "cell_type": "code",
   "execution_count": null,
   "metadata": {},
   "outputs": [],
   "source": []
  },
  {
   "cell_type": "code",
   "execution_count": 9,
   "metadata": {},
   "outputs": [
    {
     "name": "stdout",
     "output_type": "stream",
     "text": [
      "пишем 3 проекции скорости\n",
      "3\n",
      "7\n",
      "2\n",
      "пишем 2 угла\n",
      "4\n",
      "1\n"
     ]
    },
    {
     "data": {
      "text/plain": [
       "array([3.44571188, 6.77614564, 2.05205261])"
      ]
     },
     "execution_count": 9,
     "metadata": {},
     "output_type": "execute_result"
    }
   ],
   "source": [
    "# из скоростной в связанную\n",
    "\n",
    "print('пишем 3 проекции скорости')\n",
    "vx = float(input())\n",
    "vy = float(input())\n",
    "vz = float(input())\n",
    "\n",
    "v_vector_wind = np.array([vx, vy, vz])\n",
    "\n",
    "print('пишем 2 угла')\n",
    "a = input()\n",
    "b = input()\n",
    "\n",
    "a = a*math.pi/180\n",
    "b = b*math.pi/180\n",
    "\n",
    "matrix = np.array([[math.cos(a)*math.cos(b), math.sin(a), -math.cos(a)*math.sin(b)],\n",
    "          [-math.sin(a)*math.cos(b), math.cos(a), math.sin(a)*math.sin(b)],\n",
    "          [math.sin(b), 0, math.cos(b)]])\n",
    "\n",
    "v_vector_body = np.dot(matrix, v_vector_wind)\n",
    "\n",
    "v_vector_body"
   ]
  },
  {
   "cell_type": "code",
   "execution_count": 13,
   "metadata": {},
   "outputs": [
    {
     "data": {
      "text/plain": [
       "array([3., 4., 6.])"
      ]
     },
     "execution_count": 13,
     "metadata": {},
     "output_type": "execute_result"
    }
   ],
   "source": [
    "v_vector_wind"
   ]
  },
  {
   "cell_type": "code",
   "execution_count": 16,
   "metadata": {},
   "outputs": [
    {
     "name": "stdout",
     "output_type": "stream",
     "text": [
      "пишем 3 проекции скорости\n",
      "3\n",
      "7\n",
      "2\n",
      "пишем 2 угла\n",
      "4\n",
      "1\n"
     ]
    },
    {
     "data": {
      "text/plain": [
       "array([2.53892022, 7.19221777, 1.95598764])"
      ]
     },
     "execution_count": 16,
     "metadata": {},
     "output_type": "execute_result"
    }
   ],
   "source": [
    "# из связанной в скоростную\n",
    "\n",
    "print('пишем 3 проекции скорости')\n",
    "vx = input()\n",
    "vy = input()\n",
    "vz = input()\n",
    "\n",
    "v_vector_body = np.array([vx, vy, vz])\n",
    "\n",
    "print('пишем 2 угла')\n",
    "a = input()\n",
    "b = input()\n",
    "\n",
    "a = a*math.pi/180\n",
    "b = b*math.pi/180\n",
    "\n",
    "matrix_b_2_w = np.array([[math.cos(a)*math.cos(b), -math.sin(a)*math.cos(b), math.sin(b)],\n",
    "              [math.sin(a), math.cos(a), 0],\n",
    "              [-math.sin(b)*math.cos(a), math.sin(a)*math.sin(b), math.cos(b)]])\n",
    "\n",
    "v_vector_wind = np.dot(matrix_b_2_w, v_vector_body)\n",
    "\n",
    "v_vector_wind"
   ]
  },
  {
   "cell_type": "code",
   "execution_count": null,
   "metadata": {},
   "outputs": [],
   "source": []
  },
  {
   "cell_type": "code",
   "execution_count": null,
   "metadata": {},
   "outputs": [],
   "source": []
  },
  {
   "cell_type": "code",
   "execution_count": null,
   "metadata": {},
   "outputs": [],
   "source": []
  },
  {
   "cell_type": "code",
   "execution_count": null,
   "metadata": {},
   "outputs": [],
   "source": []
  },
  {
   "cell_type": "code",
   "execution_count": 58,
   "metadata": {},
   "outputs": [],
   "source": []
  },
  {
   "cell_type": "code",
   "execution_count": null,
   "metadata": {},
   "outputs": [],
   "source": []
  },
  {
   "cell_type": "code",
   "execution_count": null,
   "metadata": {},
   "outputs": [],
   "source": []
  },
  {
   "cell_type": "code",
   "execution_count": null,
   "metadata": {},
   "outputs": [],
   "source": []
  },
  {
   "cell_type": "code",
   "execution_count": null,
   "metadata": {},
   "outputs": [],
   "source": []
  }
 ],
 "metadata": {
  "kernelspec": {
   "display_name": "Python 2",
   "language": "python",
   "name": "python2"
  },
  "language_info": {
   "codemirror_mode": {
    "name": "ipython",
    "version": 2
   },
   "file_extension": ".py",
   "mimetype": "text/x-python",
   "name": "python",
   "nbconvert_exporter": "python",
   "pygments_lexer": "ipython2",
   "version": "2.7.16"
  }
 },
 "nbformat": 4,
 "nbformat_minor": 2
}

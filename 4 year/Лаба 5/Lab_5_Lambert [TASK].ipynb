{
 "cells": [
  {
   "cell_type": "code",
   "execution_count": 130,
   "id": "33d1aebf",
   "metadata": {},
   "outputs": [],
   "source": [
    "import pandas as pd\n",
    "import numpy as np\n",
    "import matplotlib.pyplot as plt\n",
    "from matplotlib import cm\n",
    "from mpl_toolkits.mplot3d import Axes3D\n",
    "import math\n",
    "from tqdm import tqdm"
   ]
  },
  {
   "cell_type": "code",
   "execution_count": 268,
   "id": "727eb5b1",
   "metadata": {},
   "outputs": [],
   "source": [
    "# астрономические параметры\n",
    "# нужно вводить свои радиусы и положения планет!!!\n",
    "\n",
    "mu = 1.3272e11\n",
    "\n",
    "r1 = 150e6\n",
    "r2 = 225e6\n",
    "\n",
    "x1 = r1*math.cos(10*math.pi/180)\n",
    "y1 = r1*math.sin(10*math.pi/180)\n",
    "\n",
    "x2 = r2*math.cos(200*math.pi/180)\n",
    "y2 = r2*math.sin(200*math.pi/180)"
   ]
  },
  {
   "cell_type": "code",
   "execution_count": 292,
   "id": "ece219cb",
   "metadata": {},
   "outputs": [
    {
     "data": {
      "text/plain": [
       "<matplotlib.collections.PathCollection at 0x16304de34f0>"
      ]
     },
     "execution_count": 292,
     "metadata": {},
     "output_type": "execute_result"
    },
    {
     "data": {
      "image/png": "[encoded data removed]",
      "text/plain": [
       "<Figure size 576x576 with 1 Axes>"
      ]
     },
     "metadata": {
      "needs_background": "light"
     },
     "output_type": "display_data"
    }
   ],
   "source": [
    "# рисуем орбиты, планеты и Солнце\n",
    "\n",
    "plt.figure(figsize=(8, 8))\n",
    "\n",
    "planet_1_x = list()\n",
    "planet_1_y = list()\n",
    "for i in range(0, 361):\n",
    "    x_dot = r1 * np.cos(i*math.pi/180)\n",
    "    y_dot = r1 * np.sin(i*math.pi/180)\n",
    "    planet_1_x.append(x_dot)\n",
    "    planet_1_y.append(y_dot)\n",
    "    \n",
    "\n",
    "planet_2_x = list()\n",
    "planet_2_y = list()\n",
    "for i in range(0, 361):\n",
    "    x_dot = r2 * np.cos(i*math.pi/180)\n",
    "    y_dot = r2 * np.sin(i*math.pi/180)\n",
    "    planet_2_x.append(x_dot)\n",
    "    planet_2_y.append(y_dot)\n",
    "    \n",
    "    \n",
    "plt.plot(planet_2_x, planet_2_y, color = 'red')\n",
    "plt.plot(planet_1_x, planet_1_y, color = 'blue')\n",
    "plt.scatter(x1, y1, color = 'blue')\n",
    "plt.scatter(x2, y2, color = 'red')\n",
    "plt.scatter(0, 0, color = 'yellow')"
   ]
  },
  {
   "cell_type": "code",
   "execution_count": 270,
   "id": "7b69451f",
   "metadata": {},
   "outputs": [],
   "source": [
    "# зададим радиус-векторы\n",
    "\n",
    "r_1 = np.array([x1, y1])\n",
    "r_2 = np.array([x2, y2])\n",
    "D = r_2 - r_1"
   ]
  },
  {
   "cell_type": "code",
   "execution_count": 271,
   "id": "524d59c0",
   "metadata": {},
   "outputs": [],
   "source": [
    "# определим угловые величины\n",
    "\n",
    "cos_fi = np.dot(r_1, r_2) / (np.linalg.norm(r_2) * np.linalg.norm(r_1))\n",
    "sin_fi = np.linalg.norm(np.cross(r_1, r_2)) / (np.linalg.norm(r_2) * np.linalg.norm(r_1))\n",
    "v_p = np.cross(r_1, r_2)\n",
    "v_sign = math.copysign(1, v_p)\n",
    "sin_fi = sin_fi * v_sign\n",
    "\n",
    "if math.copysign(1, sin_fi) >= 0:\n",
    "    fi = math.acos(cos_fi)\n",
    "if math.copysign(1, sin_fi) < 0:\n",
    "    fi = 2*math.pi - math.acos(cos_fi)"
   ]
  },
  {
   "cell_type": "code",
   "execution_count": 272,
   "id": "dbff9721",
   "metadata": {},
   "outputs": [
    {
     "data": {
      "text/plain": [
       "190.0"
      ]
     },
     "execution_count": 272,
     "metadata": {},
     "output_type": "execute_result"
    }
   ],
   "source": [
    "# Проверка 1. выведите угловую дальность в градусах и сравните её визуально\n",
    "# с картинкой наверху\n",
    "\n",
    "fi*180 / math.pi"
   ]
  },
  {
   "cell_type": "code",
   "execution_count": 273,
   "id": "4af2e8cc",
   "metadata": {},
   "outputs": [],
   "source": [
    "# задаём начальное приближение для решения уравнения Ламберта\n",
    "\n",
    "a_min = (np.linalg.norm(r_1) + np.linalg.norm(r_2) + np.linalg.norm(D)) / 4\n",
    "delta_min = math.acos(1-(np.linalg.norm(r_1) + np.linalg.norm(r_2) - np.linalg.norm(D))/(2*a_min))\n",
    "\n",
    "t_pz = a_min**(1.5)*(math.pi - math.copysign(1, sin_fi)*(delta_min - math.sin(delta_min)))/np.sqrt(mu)"
   ]
  },
  {
   "cell_type": "code",
   "execution_count": 274,
   "id": "ee86f865",
   "metadata": {},
   "outputs": [
    {
     "data": {
      "text/plain": [
       "255.56030714907425"
      ]
     },
     "execution_count": 274,
     "metadata": {},
     "output_type": "execute_result"
    }
   ],
   "source": [
    "# выводим t_pz в первом приближении\n",
    "\n",
    "t_pz/(24*60*60)"
   ]
  },
  {
   "cell_type": "code",
   "execution_count": 275,
   "id": "9b94bfe4",
   "metadata": {},
   "outputs": [],
   "source": [
    "# ищем, сколько времени заняла фактическая миссия в днях, например 280\n",
    "\n",
    "t_p = 280 * 24*60*60"
   ]
  },
  {
   "cell_type": "code",
   "execution_count": 276,
   "id": "6e4b5eba",
   "metadata": {},
   "outputs": [],
   "source": [
    "# теперь нужно организовать цикл таким образом, чтобы наша расчётная t_pz\n",
    "# оказалась равна фактической. Это делаете сами!!!\n",
    "\n",
    "\n"
   ]
  },
  {
   "cell_type": "code",
   "execution_count": 277,
   "id": "ce34b40f",
   "metadata": {},
   "outputs": [
    {
     "data": {
      "text/plain": [
       "280.00076645554753"
      ]
     },
     "execution_count": 277,
     "metadata": {},
     "output_type": "execute_result"
    }
   ],
   "source": [
    "# снова смотрим на t_pz, должно быть примерно как t_p, погрешность на 4 знаке\n",
    "\n",
    "t_pz/(24*60*60)"
   ]
  },
  {
   "cell_type": "code",
   "execution_count": 278,
   "id": "d00e56d6",
   "metadata": {},
   "outputs": [],
   "source": [
    "# теперь определим параметры орбиты перехода\n",
    "\n",
    "p = np.linalg.norm(r_1) * np.linalg.norm(r_2) * ((math.sin(fi/2))**2) /(a_min * (math.sin((eps - delta)/2))**2)\n",
    "ex = np.sqrt(1 - p / a_min)\n",
    "\n",
    "cos_teta_1 = (p - np.linalg.norm(r_1)) / (ex * np.linalg.norm(r_1))\n",
    "cos_teta_2 = (p - np.linalg.norm(r_2)) / (ex * np.linalg.norm(r_2))\n",
    "sin_teta_1 = (math.cos(fi) * cos_teta_1 - cos_teta_2) / math.sin(fi)\n",
    "\n",
    "if math.copysign(1, sin_teta_1) >= 0:\n",
    "    teta_1 = math.acos(cos_teta_1)\n",
    "if math.copysign(1, sin_teta_1) < 0:\n",
    "    teta_1 = 2 * math.pi - math.acos(cos_teta_1)\n",
    "    \n",
    "teta_2 = teta_1 + fi\n",
    "\n",
    "lambda0 = math.acos(x1*(1+ex*math.cos(teta_1))/p) - teta_1\n",
    "lambda02 = math.asin(y1*(1+ex*math.cos(teta_1))/p) - teta_1"
   ]
  },
  {
   "cell_type": "code",
   "execution_count": 279,
   "id": "adb2d977",
   "metadata": {},
   "outputs": [
    {
     "name": "stdout",
     "output_type": "stream",
     "text": [
      "150000000.0\n",
      "225000000.0\n"
     ]
    }
   ],
   "source": [
    "# Проверка 2. Должны получить радиусы начальной и конечной орбиты\n",
    "\n",
    "print (p / (1 + ex * math.cos(teta_1)))\n",
    "print (p / (1 + ex * math.cos(teta_2)))"
   ]
  },
  {
   "cell_type": "code",
   "execution_count": null,
   "id": "b0134d79",
   "metadata": {},
   "outputs": [],
   "source": []
  },
  {
   "cell_type": "code",
   "execution_count": 280,
   "id": "0ad36011",
   "metadata": {},
   "outputs": [],
   "source": [
    "# Теперь определяем саму траекторию\n",
    "\n",
    "Lambert_transfer_x = list()\n",
    "Lambert_transfer_y = list()\n",
    "\n",
    "for i in range(int(teta_1 * 180 / 3.1416), int(teta_2 * 180 / 3.1416)+1):\n",
    "    teta_i = i*math.pi / 180\n",
    "    rg_i = p / (1 + ex * math.cos(teta_i))\n",
    "    Lambert_x = rg_i * math.cos(teta_i + lambda0)\n",
    "    Lambert_y = rg_i * math.sin(teta_i + lambda0)\n",
    "    Lambert_transfer_x.append(Lambert_x)\n",
    "    Lambert_transfer_y.append(Lambert_y)"
   ]
  },
  {
   "cell_type": "code",
   "execution_count": 281,
   "id": "b4b53271",
   "metadata": {},
   "outputs": [
    {
     "data": {
      "text/plain": [
       "<matplotlib.collections.PathCollection at 0x1630612a940>"
      ]
     },
     "execution_count": 281,
     "metadata": {},
     "output_type": "execute_result"
    },
    {
     "data": {
      "image/png": "[encoded data removed]",
      "text/plain": [
       "<Figure size 576x576 with 1 Axes>"
      ]
     },
     "metadata": {
      "needs_background": "light"
     },
     "output_type": "display_data"
    }
   ],
   "source": [
    "plt.figure(figsize=(8, 8))\n",
    "plt.plot(planet_2_x, planet_2_y, color = 'red')\n",
    "plt.plot(planet_1_x, planet_1_y, color = 'blue')\n",
    "plt.plot(Lambert_transfer_x, Lambert_transfer_y, color = 'black')\n",
    "plt.scatter(x1, y1, color = 'blue')\n",
    "plt.scatter(x2, y2, color = 'red')\n",
    "plt.scatter(0, 0, color = 'yellow')"
   ]
  },
  {
   "cell_type": "code",
   "execution_count": 286,
   "id": "5dd97a5c",
   "metadata": {},
   "outputs": [],
   "source": [
    "# Считаем первый импульс\n",
    "\n",
    "v_r_1 = np.sqrt(mu/p)*ex*math.sin(teta_1)\n",
    "v_f_1 = np.sqrt(mu/p)*(1 + ex*math.cos(teta_1))\n",
    "v_f_start = np.sqrt(mu/np.linalg.norm(r_1))\n",
    "\n",
    "impulse_1 = np.sqrt(v_r_1**2 + (v_f_1 - v_f_start)**2)"
   ]
  },
  {
   "cell_type": "code",
   "execution_count": 288,
   "id": "5dfb40de",
   "metadata": {},
   "outputs": [],
   "source": [
    "# Считаем второй импульс\n",
    "\n",
    "v_r_2 = np.sqrt(mu/p)*ex*math.sin(teta_2)\n",
    "v_f_2 = np.sqrt(mu/p)*(1 + ex*math.cos(teta_2))\n",
    "v_f_finish = np.sqrt(mu/np.linalg.norm(r_2))\n",
    "\n",
    "impulse_2 = np.sqrt(v_r_2**2 + (v_f_2 - v_f_finish)**2)"
   ]
  },
  {
   "cell_type": "code",
   "execution_count": 290,
   "id": "2a3ce630",
   "metadata": {},
   "outputs": [],
   "source": [
    "# Считаем суммарный импульс\n",
    "\n",
    "impulse_sum = impulse_1 + impulse_2"
   ]
  },
  {
   "cell_type": "code",
   "execution_count": null,
   "id": "cd63cfde",
   "metadata": {},
   "outputs": [],
   "source": []
  },
  {
   "cell_type": "code",
   "execution_count": null,
   "id": "9278361a",
   "metadata": {},
   "outputs": [],
   "source": []
  },
  {
   "cell_type": "code",
   "execution_count": null,
   "id": "e48b245f",
   "metadata": {},
   "outputs": [],
   "source": []
  }
 ],
 "metadata": {
  "kernelspec": {
   "display_name": "Python 3",
   "language": "python",
   "name": "python3"
  },
  "language_info": {
   "codemirror_mode": {
    "name": "ipython",
    "version": 3
   },
   "file_extension": ".py",
   "mimetype": "text/x-python",
   "name": "python",
   "nbconvert_exporter": "python",
   "pygments_lexer": "ipython3",
   "version": "3.8.8"
  }
 },
 "nbformat": 4,
 "nbformat_minor": 5
}
